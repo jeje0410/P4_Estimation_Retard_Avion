{
 "cells": [
  {
   "cell_type": "code",
   "execution_count": null,
   "metadata": {
    "_cell_guid": "b1076dfc-b9ad-4769-8c92-a6c4dae69d19",
    "_uuid": "8f2839f25d086af736a60e9eeb907d3b93b6e0e5",
    "execution": {
     "iopub.execute_input": "2021-09-27T12:48:08.400961Z",
     "iopub.status.busy": "2021-09-27T12:48:08.40045Z",
     "iopub.status.idle": "2021-09-27T12:48:09.363004Z",
     "shell.execute_reply": "2021-09-27T12:48:09.362139Z",
     "shell.execute_reply.started": "2021-09-27T12:48:08.400839Z"
    }
   },
   "outputs": [],
   "source": [
    "# This Python 3 environment comes with many helpful analytics libraries installed\n",
    "# It is defined by the kaggle/python Docker image: https://github.com/kaggle/docker-python\n",
    "# For example, here's several helpful packages to load\n",
    "\n",
    "import numpy as np # linear algebra\n",
    "import pandas as pd # data processing, CSV file I/O (e.g. pd.read_csv)\n",
    "import matplotlib.pyplot as plt\n",
    "import os\n",
    "import missingno as msno\n",
    "import seaborn as sns\n",
    "import datetime\n",
    "import pickle"
   ]
  },
  {
   "cell_type": "code",
   "execution_count": null,
   "metadata": {
    "_cell_guid": "b1076dfc-b9ad-4769-8c92-a6c4dae69d19",
    "_uuid": "8f2839f25d086af736a60e9eeb907d3b93b6e0e5"
   },
   "outputs": [],
   "source": [
    "# Input data files are available in the read-only \"../input/\" directory\n",
    "# For example, running this (by clicking run or pressing Shift+Enter) will list all files under the input directory\n",
    "\n",
    "#for dirname, _, filenames in os.walk('../intros/DS/avion/Dataset+Projet+4/'):\n",
    "for dirname, _, filenames in os.walk('/kaggle/input/retard-avion/'):\n",
    "    for filename in filenames:\n",
    "        print(os.path.join(dirname, filename))\n",
    "\n",
    "# You can write up to 20GB to the current directory (/kaggle/working/) that gets preserved as output when you create a version using \"Save & Run All\" \n",
    "# You can also write temporary files to /kaggle/temp/, but they won't be saved outside of the current session"
   ]
  },
  {
   "cell_type": "markdown",
   "metadata": {},
   "source": []
  },
  {
   "cell_type": "markdown",
   "metadata": {},
   "source": [
    "# Fusion des datasets\n",
    "Lecture de l'ensemble des fichiers pour créer le Dataframe complet avec les champs à conserver\n",
    "\n",
    "## Liste des colonnes à conserver\n",
    "* FL_DATE = Date du départ Concaténation du mois, jour, année\n",
    "* MONTH  = Mois de l'année\n",
    "* DAY_OF_MONTH = Jour du mois\n",
    "* UNIQUE_CARRIER = Code du transporteur\n",
    "* ORIGIN_AIRPORT_ID = Identifiant de l'aéroport d'origine\n",
    "* ORIGIN_CITY_NAME =  Nom de l'aéroport d'origine\n",
    "* ORIGIN_STATE_ABR = Etat d'origine\n",
    "* DEST_AIRPORT_ID = Identifiant de l'aéroport de destination\n",
    "* DEST_CITY_NAME = Nom de l'aéroport de destination\n",
    "* DEST_STATE_ABR = Etat de destination\n",
    "* CRS_DEP_TIME = Heure de départ thérorique\n",
    "* DEP_TIME = Heure de départ réelle\n",
    "* DEP_DELAY = Calcul de la différence entre le départ théorique et réel\n",
    "* ARR_DELAY = Calcul de la différence entre l'arrivée théorique et réelle ==> Champs qui nous indique le retard ou non de l'avion\n",
    "* CRS_ELAPSED_TIME = Durée du vol théorique\n",
    "* CRS_ARR_TIME = Heure d'arrivée théorique\n",
    "* DISTANCE = Distance du vol\n",
    "* DISTANCE_GROUP = Distance du vol regroupé en catégorie ==> Finalement pas retenu, meilleur résultat avec la distance"
   ]
  },
  {
   "cell_type": "code",
   "execution_count": null,
   "metadata": {
    "execution": {
     "iopub.execute_input": "2021-09-27T12:48:45.19052Z",
     "iopub.status.busy": "2021-09-27T12:48:45.189817Z",
     "iopub.status.idle": "2021-09-27T12:49:50.847986Z",
     "shell.execute_reply": "2021-09-27T12:49:50.846358Z",
     "shell.execute_reply.started": "2021-09-27T12:48:45.190466Z"
    }
   },
   "outputs": [],
   "source": [
    "ChampsAConserver = {'FL_DATE','MONTH','DAY_OF_MONTH','UNIQUE_CARRIER','ORIGIN_STATE_ABR','DEST_STATE_ABR','CRS_DEP_TIME',\n",
    "                  'DEP_TIME','DEP_DELAY','ARR_DELAY','CRS_ELAPSED_TIME','CRS_ARR_TIME','DISTANCE'}\n",
    "\n",
    "# ChampsAConserver = {'FL_DATE','MONTH','DAY_OF_MONTH','UNIQUE_CARRIER','ORIGIN_STATE_ABR','DEST_STATE_ABR','CRS_DEP_TIME',\n",
    "#                     'DEP_TIME','ARR_DELAY','CRS_ELAPSED_TIME','CRS_ARR_TIME','DISTANCE'}\n",
    "\n",
    "full_df = None\n",
    "#for dirname, _, filenames in os.walk('../intros/DS/avion/Dataset+Projet+4/'):\n",
    "for dirname, _, filenames in os.walk('/kaggle/input/retard-avion/'):\n",
    "    for filename in filenames:\n",
    "        file_path = os.path.join(os.path.abspath(dirname), filename)\n",
    "        df = pd.read_csv(file_path, sep = ',', encoding='UTF-8', usecols=ChampsAConserver)\n",
    "        \n",
    "        if full_df is None:\n",
    "            full_df = df\n",
    "        else:            \n",
    "            full_df = pd.concat([full_df, df], axis=0)"
   ]
  },
  {
   "cell_type": "code",
   "execution_count": null,
   "metadata": {},
   "outputs": [],
   "source": [
    "#Affichage de la matrice de remplissage des données\n",
    "msno.matrix(full_df)"
   ]
  },
  {
   "cell_type": "code",
   "execution_count": null,
   "metadata": {},
   "outputs": [],
   "source": [
    "#Lecture d'un seul Fichier\n",
    "df = pd.read_csv('/kaggle/input/retard-avion/2016_01.csv', sep = ',', encoding='UTF-8')\n",
    "#df = pd.read_csv('../intros/DS/avion/Dataset+Projet+4/2016_01.csv', sep = ',', encoding='UTF-8')"
   ]
  },
  {
   "cell_type": "code",
   "execution_count": null,
   "metadata": {},
   "outputs": [],
   "source": [
    "#Affichage d'une courbe de remplissage des attributs\n",
    "indAvg = full_df.isna().mean().sort_values()\n",
    "plt.figure(figsize=(10,10))\n",
    "plt.plot(range(indAvg.shape[0]),indAvg.values)\n",
    "plt.plot([0,indAvg.shape[0]],[0.7,0.7])\n",
    "plt.xlabel('Attributs')\n",
    "plt.ylabel('Taux de Null')\n",
    "plt.title('Qualités des indicateurs')\n",
    "plt.show()"
   ]
  },
  {
   "cell_type": "code",
   "execution_count": null,
   "metadata": {},
   "outputs": [],
   "source": [
    "#Affichage d'un histogramme surles premières colonnes \n",
    "X = full_df[full_df.columns[:12]].values\n",
    "fig = plt.figure(figsize=(16, 12))\n",
    "for feat_idx in range(X.shape[1]):\n",
    "    ax = fig.add_subplot(3,4, (feat_idx+1))\n",
    "    h = ax.hist(X[:, feat_idx], bins=50, color='steelblue', density=True, edgecolor='none')\n",
    "    ax.set_title(full_df.columns[feat_idx], fontsize=14)\n"
   ]
  },
  {
   "cell_type": "markdown",
   "metadata": {},
   "source": [
    "# Changement des types\n",
    "* pour faciliter la suite de l'analyse et supprimer les enregistrements qui ne peuvent être convertis\n",
    "* Tri par date pour permettre le découpage temporel lors de la cross validation\n",
    "* Création d'une colonne avec le nombre de jour par rapprt aux vacances"
   ]
  },
  {
   "cell_type": "code",
   "execution_count": null,
   "metadata": {
    "execution": {
     "iopub.execute_input": "2021-09-27T12:50:05.263266Z",
     "iopub.status.busy": "2021-09-27T12:50:05.26283Z",
     "iopub.status.idle": "2021-09-27T12:50:12.793848Z",
     "shell.execute_reply": "2021-09-27T12:50:12.792952Z",
     "shell.execute_reply.started": "2021-09-27T12:50:05.263213Z"
    }
   },
   "outputs": [],
   "source": [
    "#Correction d'une erreur de date en entrée\n",
    "full_df = full_df[full_df['FL_DATE'] != '5059']\n",
    "#Conversion\n",
    "full_df['FL_DATE'] = pd.to_datetime(full_df['FL_DATE'])\n",
    "#Tri par date\n",
    "full_df = full_df.sort_values('FL_DATE')"
   ]
  },
  {
   "cell_type": "code",
   "execution_count": null,
   "metadata": {
    "execution": {
     "iopub.execute_input": "2021-09-27T12:50:12.795614Z",
     "iopub.status.busy": "2021-09-27T12:50:12.795147Z",
     "iopub.status.idle": "2021-09-27T12:50:35.098979Z",
     "shell.execute_reply": "2021-09-27T12:50:35.097973Z",
     "shell.execute_reply.started": "2021-09-27T12:50:12.795569Z"
    }
   },
   "outputs": [],
   "source": [
    "#Conversion des champs numériques\n",
    "# modification des types du dataset en float quand cela est nécessaire\n",
    "num_col = [\"DEP_TIME\",\"DAY_OF_MONTH\",\"MONTH\",\"DEP_DELAY\", \"ARR_DELAY\", \"CRS_ELAPSED_TIME\", \"DISTANCE\"]\n",
    "\n",
    "for col in num_col:\n",
    "    print(col)\n",
    "    full_df[col] = pd.to_numeric(full_df[col], errors='coerce')\n",
    "#Utilisation de l'Option errors = coerce pour remplacer les erreurs de conversions avec NA\n",
    "\n",
    "#Conversion de l'heure de départ en string (pour récupération de l'heure)\n",
    "full_df['CRS_DEP_TIME'] = full_df['CRS_DEP_TIME'].astype('str') \n",
    "\n",
    "#Conversion de l'heure d'arrivée en string (pour récupération de l'heure)\n",
    "full_df['CRS_ARR_TIME'] = full_df['CRS_ARR_TIME'].astype('str') \n",
    "\n",
    "#Suppression des lignes avec des NA\n",
    "full_df = full_df.dropna(axis=0, subset=['DEP_TIME'])\n",
    "full_df = full_df.dropna(axis=0, subset=['DAY_OF_MONTH'])\n",
    "full_df = full_df.dropna(axis=0, subset=['MONTH'])\n",
    "full_df = full_df.dropna(axis=0, subset=['DEP_DELAY'])\n",
    "full_df = full_df.dropna(axis=0, subset=['ARR_DELAY'])\n",
    "full_df = full_df.dropna(axis=0, subset=['CRS_ELAPSED_TIME'])\n",
    "full_df = full_df.dropna(axis=0, subset=['DISTANCE'])\n",
    "full_df = full_df.dropna(axis=0, subset=['CRS_DEP_TIME'])\n",
    "full_df = full_df.dropna(axis=0, subset=['CRS_ARR_TIME'])"
   ]
  },
  {
   "cell_type": "markdown",
   "metadata": {},
   "source": [
    "# Analyse métier des retards"
   ]
  },
  {
   "cell_type": "code",
   "execution_count": null,
   "metadata": {},
   "outputs": [],
   "source": [
    "#Affichage des retards par transporteur\n",
    "sns.set_theme(style=\"darkgrid\")\n",
    "sns.set(rc={'figure.figsize':(25,12)})\n",
    "ax = sns.countplot(x=\"UNIQUE_CARRIER\", data=full_df.loc[full_df['ARR_DELAY']>0])"
   ]
  },
  {
   "cell_type": "code",
   "execution_count": null,
   "metadata": {},
   "outputs": [],
   "source": [
    "#Affichage des retards par état d'origine\n",
    "ax = sns.countplot(x=\"ORIGIN_STATE_ABR\", data=full_df.loc[full_df['ARR_DELAY']>0])"
   ]
  },
  {
   "cell_type": "code",
   "execution_count": null,
   "metadata": {},
   "outputs": [],
   "source": [
    "#Affichage des retards par état de destination\n",
    "ax = sns.countplot(x=\"DEST_STATE_ABR\", data=full_df.loc[full_df['ARR_DELAY']>0])"
   ]
  },
  {
   "cell_type": "code",
   "execution_count": null,
   "metadata": {},
   "outputs": [],
   "source": [
    "fig = plt.figure()\n",
    "fig.suptitle('Retard Arrivée/Retard au départ')\n",
    "plt.xlabel('Retard Arrivée')\n",
    "plt.ylabel('Retard Départ')\n",
    "plt.scatter(full_df.loc[full_df['ARR_DELAY']>120,'ARR_DELAY'], full_df.loc[full_df['ARR_DELAY']>120,'DEP_DELAY'],color = 'coral')"
   ]
  },
  {
   "cell_type": "code",
   "execution_count": null,
   "metadata": {},
   "outputs": [],
   "source": [
    "full_df.loc[full_df['ARR_DELAY']>120].head(10)"
   ]
  },
  {
   "cell_type": "code",
   "execution_count": null,
   "metadata": {},
   "outputs": [],
   "source": [
    "#Affichage des retards par Distance_Group\n",
    "#Incrémentation du nombre tous les 250km. la dernière catégorie est donc plus de 2500km \n",
    "ax = sns.countplot(x=\"DISTANCE_GROUP\", data=full_df.loc[full_df['ARR_DELAY']>0])"
   ]
  },
  {
   "cell_type": "markdown",
   "metadata": {},
   "source": [
    "# Nombre de jours d'écart avec des vacances\n",
    "L'idée est de créer une dimension supplémentaire avec le nombre de jours qui nous sépare des vacances les plus proche"
   ]
  },
  {
   "cell_type": "code",
   "execution_count": null,
   "metadata": {
    "execution": {
     "iopub.execute_input": "2021-09-27T12:51:01.973957Z",
     "iopub.status.busy": "2021-09-27T12:51:01.9736Z",
     "iopub.status.idle": "2021-09-27T12:53:29.87322Z",
     "shell.execute_reply": "2021-09-27T12:53:29.872063Z",
     "shell.execute_reply.started": "2021-09-27T12:51:01.973926Z"
    }
   },
   "outputs": [],
   "source": [
    "USHolydays = [datetime.date(2016,1,1),datetime.date(2016,1,18),datetime.date(2016,2,15),datetime.date(2016,5,30),datetime.date(2016,7,4),datetime.date(2016,9,5),datetime.date(2016,10,10),datetime.date(2016,11,11),datetime.date(2016,11,24),datetime.date(2016,12,26),datetime.date(2016,12,31)]\n",
    "def daystoholydays(day,month):\n",
    "    return min([abs((x - datetime.date(2016, month, day)).days) for x in USHolydays])\n",
    "\n",
    "#Ajout de la colonne sur le nombre de jours jusqu'au prochaine vacance\n",
    "full_df['daysToHolydays'] = full_df.loc[:,['DAY_OF_MONTH','MONTH']].apply(lambda x: daystoholydays(x['DAY_OF_MONTH'],x['MONTH']), axis = 1)"
   ]
  },
  {
   "cell_type": "markdown",
   "metadata": {},
   "source": [
    "# Utilisation des Mois, Heures, jours\n",
    "> Transformation des informations cyclique à l'aide des COS et SIN"
   ]
  },
  {
   "cell_type": "code",
   "execution_count": null,
   "metadata": {
    "execution": {
     "iopub.execute_input": "2021-09-27T12:53:29.87594Z",
     "iopub.status.busy": "2021-09-27T12:53:29.875361Z",
     "iopub.status.idle": "2021-09-27T12:54:05.761126Z",
     "shell.execute_reply": "2021-09-27T12:54:05.759992Z",
     "shell.execute_reply.started": "2021-09-27T12:53:29.87589Z"
    }
   },
   "outputs": [],
   "source": [
    "#Transformation du mois\n",
    "month_in_year = 12\n",
    "full_df['sin_month'] = np.sin(2*np.pi*full_df.MONTH/month_in_year)\n",
    "full_df['cos_month'] = np.cos(2*np.pi*full_df.MONTH/month_in_year)\n",
    "#Suppression de la colonne initiale\n",
    "full_df.drop('MONTH', axis=1, inplace=True)\n",
    "\n",
    "#Transformation du jours du mois\n",
    "day_in_month = 30\n",
    "full_df['sin_day'] = np.sin(2*np.pi*full_df.DAY_OF_MONTH/day_in_month)\n",
    "full_df['cos_day'] = np.cos(2*np.pi*full_df.DAY_OF_MONTH/day_in_month)\n",
    "#Suppression de la colonne initiale\n",
    "full_df.drop('DAY_OF_MONTH', axis=1, inplace=True)\n",
    "\n",
    "#Transformation de l'heure de départ\n",
    "hour_in_day = 24\n",
    "full_df['sin_hour_dep'] = np.sin(2*np.pi*pd.to_numeric(full_df.CRS_DEP_TIME.str[:2],errors='coerce')/hour_in_day)\n",
    "full_df['cos_hour_dep'] = np.cos(2*np.pi*pd.to_numeric(full_df.CRS_DEP_TIME.str[:2],errors='coerce')/hour_in_day)\n",
    "#Suppression de la colonne initiale\n",
    "full_df.drop('CRS_DEP_TIME', axis=1, inplace=True)\n",
    "\n",
    "#Transformation de l'heure d'arrivée\n",
    "hour_in_day = 24\n",
    "full_df['sin_hour_arr'] = np.sin(2*np.pi*pd.to_numeric(full_df.CRS_ARR_TIME.str[:2],errors='coerce')/hour_in_day)\n",
    "full_df['cos_hour_arr'] = np.cos(2*np.pi*pd.to_numeric(full_df.CRS_ARR_TIME.str[:2],errors='coerce')/hour_in_day)\n",
    "#Suppression de la colonne initiale\n",
    "full_df.drop('CRS_ARR_TIME', axis=1, inplace=True)"
   ]
  },
  {
   "cell_type": "markdown",
   "metadata": {},
   "source": [
    "# Mean Target Encoding\n",
    "Finalement je n'utilise pas le One Hot Encoding car la multiplication des variables posent un problème. Je vais utiliser le Mean Target Encoding\n",
    "* Création de plusieurs DataframeGoupby afin d'obtenir les écarts types de chaque catégorie"
   ]
  },
  {
   "cell_type": "markdown",
   "metadata": {},
   "source": []
  },
  {
   "cell_type": "code",
   "execution_count": null,
   "metadata": {
    "execution": {
     "iopub.execute_input": "2021-09-27T12:54:55.600228Z",
     "iopub.status.busy": "2021-09-27T12:54:55.599661Z",
     "iopub.status.idle": "2021-09-27T12:56:41.749381Z",
     "shell.execute_reply": "2021-09-27T12:56:41.748333Z",
     "shell.execute_reply.started": "2021-09-27T12:54:55.600173Z"
    }
   },
   "outputs": [],
   "source": [
    "#Création du DF en group by par état de départ\n",
    "final_df_by_ORIGIN_STATE_ABR = full_df.groupby('ORIGIN_STATE_ABR')\n",
    "#Calcul de la moyenne par état de départ\n",
    "std_by_state_origin = final_df_by_ORIGIN_STATE_ABR['ARR_DELAY'].std()\n",
    "for x in std_by_state_origin.keys() :\n",
    "    full_df.loc[full_df['ORIGIN_STATE_ABR'] == x,'meanByStateOrigin'] =  std_by_state_origin[x]\n",
    "    \n",
    "    \n",
    "#Création du DF en group by par état d'arrivée\n",
    "final_df_by_ORIGIN_STATE_ABR = full_df.groupby('DEST_STATE_ABR')\n",
    "#Calcul de la moyenne par état d'arrivée\n",
    "std_by_state_dest = final_df_by_ORIGIN_STATE_ABR[\"ARR_DELAY\"].std()\n",
    "for x in std_by_state_dest.keys() :\n",
    "    full_df.loc[full_df['DEST_STATE_ABR'] == x,'meanByStateDest'] =  std_by_state_dest[x]\n",
    "    \n",
    "#Création du DF en group by par compagnie\n",
    "final_df_by_CARRIER = full_df.groupby('UNIQUE_CARRIER')\n",
    "#Calcul de la moyenne compagnie\n",
    "std_by_carrier = final_df_by_CARRIER[\"ARR_DELAY\"].std()\n",
    "for x in std_by_carrier.keys() :\n",
    "    full_df.loc[full_df['UNIQUE_CARRIER'] == x,'meanByCarrier'] =  std_by_carrier[x]"
   ]
  },
  {
   "cell_type": "code",
   "execution_count": null,
   "metadata": {
    "execution": {
     "iopub.execute_input": "2021-09-27T12:56:41.751367Z",
     "iopub.status.busy": "2021-09-27T12:56:41.750878Z",
     "iopub.status.idle": "2021-09-27T12:56:42.978201Z",
     "shell.execute_reply": "2021-09-27T12:56:42.97714Z",
     "shell.execute_reply.started": "2021-09-27T12:56:41.751329Z"
    }
   },
   "outputs": [],
   "source": [
    "#Création du DF en group by etat d'origine et de départ (pour le site WEB afin de ne pas saisir les données)\n",
    "final_df_by_ORIGIN_STATE_ABR = full_df.groupby(['ORIGIN_STATE_ABR','DEST_STATE_ABR'])\n",
    "#Calcul de la distance moyenne et du temps moyen entre deux états\n",
    "mean_by_distance_state = final_df_by_ORIGIN_STATE_ABR[\"DISTANCE\"].mean()\n",
    "mean_by_time_state = final_df_by_ORIGIN_STATE_ABR[\"CRS_ELAPSED_TIME\"].mean()"
   ]
  },
  {
   "cell_type": "code",
   "execution_count": null,
   "metadata": {
    "execution": {
     "iopub.execute_input": "2021-09-27T12:56:42.98015Z",
     "iopub.status.busy": "2021-09-27T12:56:42.979838Z",
     "iopub.status.idle": "2021-09-27T12:56:44.717475Z",
     "shell.execute_reply": "2021-09-27T12:56:44.716569Z",
     "shell.execute_reply.started": "2021-09-27T12:56:42.980118Z"
    }
   },
   "outputs": [],
   "source": [
    "#Création du DF en group by pour calculer le retard au départ en fonction de la compagnie, état de départ et état d'arrivée (Pour le site WEB)\n",
    "final_df_by_CARRIER_STATE = full_df.groupby(['UNIQUE_CARRIER','ORIGIN_STATE_ABR','DEST_STATE_ABR'])\n",
    "mean_by_delay = final_df_by_CARRIER_STATE[\"ARR_DELAY\"].mean()"
   ]
  },
  {
   "cell_type": "markdown",
   "metadata": {},
   "source": [
    "# Sérialisation des Dataframes\n",
    "Pour la prédiction, j'ai besoin des éléments suivants qui ne seront pas saisis par l'utlisateur\n",
    "* L'écart type des retards pour l'état d'origine (Mean target encoding)\n",
    "* L'écart type des retards pour l'état d'arrivée (Mean target encoding)\n",
    "* l'écart type des retards d'une compagnie (Mean target encoding)\n",
    "* La distance moyenne entre deux états\n",
    "* Le temps moyen de vol entre deux états\n",
    "* le retard moyen d'une compagnie entre deux états (prédiction du retard au décollage)"
   ]
  },
  {
   "cell_type": "code",
   "execution_count": null,
   "metadata": {
    "execution": {
     "iopub.execute_input": "2021-09-27T12:56:51.403167Z",
     "iopub.status.busy": "2021-09-27T12:56:51.402798Z",
     "iopub.status.idle": "2021-09-27T12:56:51.416974Z",
     "shell.execute_reply": "2021-09-27T12:56:51.41562Z",
     "shell.execute_reply.started": "2021-09-27T12:56:51.403133Z"
    }
   },
   "outputs": [],
   "source": [
    "df_std_state_origin = std_by_state_origin.to_frame()\n",
    "df_std_state_dest = std_by_state_dest.to_frame()\n",
    "df_std_carrier = std_by_carrier.to_frame()\n",
    "df_mean_distance = mean_by_distance_state.to_frame()\n",
    "df_mean_time = mean_by_time_state.to_frame()\n",
    "df_mean_by_delay = mean_by_delay.to_frame()\n",
    "pickle.dump(df_std_state_origin, open('df_std_state_origin.pickle', 'wb')) #Saving DF\n",
    "pickle.dump(df_std_state_dest, open('df_std_state_dest.pickle', 'wb')) #Saving DF\n",
    "pickle.dump(df_std_carrier, open('df_std_carrier.pickle', 'wb')) #Saving DF\n",
    "pickle.dump(df_mean_distance, open('df_mean_distance.pickle', 'wb')) #Saving DF\n",
    "pickle.dump(df_mean_time, open('df_mean_time.pickle', 'wb')) #Saving DF\n",
    "pickle.dump(df_mean_by_delay, open('df_mean_by_delay.pickle', 'wb')) #Saving DF"
   ]
  },
  {
   "cell_type": "markdown",
   "metadata": {},
   "source": [
    "# Mise à plat des catégories\n",
    "Création de colonnes boolean pour l'utlisation des dimensions catégorielles\n",
    "\n",
    "Je ne l'utilise plus finalement car je fais du Mean Target Encoding sur les variables catégorielles"
   ]
  },
  {
   "cell_type": "code",
   "execution_count": null,
   "metadata": {},
   "outputs": [],
   "source": [
    "#Mise à plate des données catégorielles\n",
    "#final_df = pd.get_dummies(full_df, columns = {'ORIGIN_STATE_ABR','DEST_STATE_ABR','UNIQUE_CARRIER'})\n",
    "#final_df = pd.get_dummies(full_df, columns = {'UNIQUE_CARRIER'})"
   ]
  },
  {
   "cell_type": "code",
   "execution_count": null,
   "metadata": {
    "execution": {
     "iopub.execute_input": "2021-09-27T12:57:22.420172Z",
     "iopub.status.busy": "2021-09-27T12:57:22.419709Z",
     "iopub.status.idle": "2021-09-27T12:57:23.459817Z",
     "shell.execute_reply": "2021-09-27T12:57:23.45874Z",
     "shell.execute_reply.started": "2021-09-27T12:57:22.420134Z"
    }
   },
   "outputs": [],
   "source": [
    "#Suppression des colonnes inutiles\n",
    "full_df.drop({'FL_DATE','DEP_TIME','ORIGIN_STATE_ABR','DEST_STATE_ABR','UNIQUE_CARRIER'}, axis=1, inplace=True)\n",
    "\n",
    "#full_df.drop({'FL_DATE','DEP_DELAY','DEP_TIME','ORIGIN_STATE_ABR','DEST_STATE_ABR','UNIQUE_CARRIER'}, axis=1, inplace=True)"
   ]
  },
  {
   "cell_type": "code",
   "execution_count": null,
   "metadata": {},
   "outputs": [],
   "source": [
    "pd.set_option('display.max_columns', None)\n",
    "full_df.head(10)"
   ]
  },
  {
   "cell_type": "markdown",
   "metadata": {},
   "source": [
    "# Création de deux jeux de données\n",
    "* final_df va contenir l'ensemble des données et des dimensions\n",
    "* df_for_reg_lineaire pour tenter d'améliorer la régresssion linéaire sans les outlers sur le ARR_DELAY >120 ou <-20 ==> Plus utlisé finalement car n'a rien apporté"
   ]
  },
  {
   "cell_type": "code",
   "execution_count": null,
   "metadata": {},
   "outputs": [],
   "source": [
    "#Creation d'un Dataset simple sans les outlers pour la régression linéaire\n",
    "full_df = full_df.loc[(full_df['ARR_DELAY']<=120) & (full_df['ARR_DELAY']>-20)]\n",
    "# df_for_reg_lineaire = df_for_reg_lineaire.iloc[:,0:12]\n",
    "#df_for_reg_lineaire = final_df.iloc[:,0:15]"
   ]
  },
  {
   "cell_type": "markdown",
   "metadata": {},
   "source": []
  },
  {
   "cell_type": "markdown",
   "metadata": {},
   "source": [
    "# Ecriture du fichier de sortie pour l'utiliser dans Modèle"
   ]
  },
  {
   "cell_type": "code",
   "execution_count": null,
   "metadata": {},
   "outputs": [],
   "source": [
    "#Ecriture du fichier de sortie pour l'utiliser dans le programme modèle\n",
    "final_df.to_csv('retardAvionClean.csv', sep = ',', encoding='UTF-8')"
   ]
  },
  {
   "cell_type": "markdown",
   "metadata": {},
   "source": []
  },
  {
   "cell_type": "markdown",
   "metadata": {},
   "source": [
    "# Partie Modèle (à reporter dans l'autre Notebook à la fin)"
   ]
  },
  {
   "cell_type": "markdown",
   "metadata": {},
   "source": [
    "# Création de deux échantillons avec 10% des données\n",
    "* sub_df\n",
    "* suf_df_for_reg_lineaire => Plus utilisé finalement avec le mean target encoding"
   ]
  },
  {
   "cell_type": "code",
   "execution_count": null,
   "metadata": {
    "execution": {
     "iopub.execute_input": "2021-09-27T12:57:38.091805Z",
     "iopub.status.busy": "2021-09-27T12:57:38.091439Z",
     "iopub.status.idle": "2021-09-27T12:57:38.274863Z",
     "shell.execute_reply": "2021-09-27T12:57:38.27387Z",
     "shell.execute_reply.started": "2021-09-27T12:57:38.091773Z"
    }
   },
   "outputs": [],
   "source": [
    "ind = np.random.choice(full_df.shape[0], round(full_df.shape[0]*0.1))\n",
    "sub_df = full_df.iloc[ind]\n",
    "#ind = np.random.choice(df_for_reg_lineaire.shape[0], round(df_for_reg_lineaire.shape[0]*0.1))\n",
    "#suf_df_for_reg_lineaire = df_for_reg_lineaire.iloc[ind]"
   ]
  },
  {
   "cell_type": "code",
   "execution_count": null,
   "metadata": {},
   "outputs": [],
   "source": [
    "#suppression des Dataframes initiaux\n",
    "del df_for_reg_lineaire\n",
    "del final_df"
   ]
  },
  {
   "cell_type": "markdown",
   "metadata": {},
   "source": [
    "# Création du jeu d'entrainement et de test\n",
    "Utlisation de train_test_split qui va découper les données avec le pourcentage spécifié"
   ]
  },
  {
   "cell_type": "code",
   "execution_count": null,
   "metadata": {
    "execution": {
     "iopub.execute_input": "2021-09-27T12:57:40.426188Z",
     "iopub.status.busy": "2021-09-27T12:57:40.425634Z",
     "iopub.status.idle": "2021-09-27T12:57:40.855709Z",
     "shell.execute_reply": "2021-09-27T12:57:40.854649Z",
     "shell.execute_reply.started": "2021-09-27T12:57:40.426133Z"
    }
   },
   "outputs": [],
   "source": [
    "from sklearn.model_selection import train_test_split\n",
    "# On récupère les features d'un côté...\n",
    "X = sub_df.drop('ARR_DELAY', axis=1).to_numpy()\n",
    "#X_forReg = suf_df_for_reg_lineaire.drop('ARR_DELAY', axis=1).to_numpy()\n",
    "\n",
    "# et les labels de l'autre\n",
    "y = sub_df[['ARR_DELAY']].to_numpy()\n",
    "#y_forReg = suf_df_for_reg_lineaire[['ARR_DELAY']].to_numpy()\n",
    "\n",
    "#Création d'un jeu d'entrainement et de test\n",
    "X_train, X_test, y_train, y_test = train_test_split(X, y, test_size=0.33)\n",
    "#X_train_forReg, X_test_forReg, y_train_forReg, y_test_forReg = train_test_split(X_forReg, y_forReg, test_size=0.33)\n",
    "\n",
    "#Suppression des variables temporaires\n",
    "del X,y"
   ]
  },
  {
   "cell_type": "markdown",
   "metadata": {},
   "source": [
    "# Standardisation\n",
    "Normalisation et réduction du jeu d'entrainement et du jeu de test"
   ]
  },
  {
   "cell_type": "code",
   "execution_count": null,
   "metadata": {
    "execution": {
     "iopub.execute_input": "2021-09-27T12:57:42.99073Z",
     "iopub.status.busy": "2021-09-27T12:57:42.989985Z",
     "iopub.status.idle": "2021-09-27T12:57:43.262482Z",
     "shell.execute_reply": "2021-09-27T12:57:43.261241Z",
     "shell.execute_reply.started": "2021-09-27T12:57:42.990668Z"
    }
   },
   "outputs": [],
   "source": [
    "#Création des jeux de données standardisés\n",
    "from sklearn import preprocessing\n",
    "std_scale = preprocessing.StandardScaler().fit(X_train)\n",
    "X_train_std = std_scale.transform(X_train)\n",
    "\n",
    "#std_scale = preprocessing.StandardScaler().fit(X_test)\n",
    "X_test_std = std_scale.transform(X_test)\n",
    "\n",
    "#Pour la régression linéaire\n",
    "#std_scale = preprocessing.StandardScaler().fit(X_train_forReg)\n",
    "#X_train_forReg_std = std_scale.transform(X_train_forReg)\n",
    "\n",
    "#std_scale = preprocessing.StandardScaler().fit(X_test_forReg)\n",
    "#X_test_forReg_std = std_scale.transform(X_test_forReg)"
   ]
  },
  {
   "cell_type": "markdown",
   "metadata": {},
   "source": [
    "# Création de différents modèles\n",
    "## Baseline\n",
    "Création d'un modèle très basique pour avoir une référence basse\n",
    "\n",
    "* Utlisation du modèle DummyRegressort qui ressort la moyenne"
   ]
  },
  {
   "cell_type": "code",
   "execution_count": null,
   "metadata": {
    "execution": {
     "iopub.execute_input": "2021-09-27T12:57:45.862588Z",
     "iopub.status.busy": "2021-09-27T12:57:45.862137Z",
     "iopub.status.idle": "2021-09-27T12:57:46.061652Z",
     "shell.execute_reply": "2021-09-27T12:57:46.060408Z",
     "shell.execute_reply.started": "2021-09-27T12:57:45.86255Z"
    }
   },
   "outputs": [],
   "source": [
    "#Import pour la partie modèles\n",
    "import sklearn.dummy\n",
    "import sklearn.metrics\n",
    "import sklearn.model_selection\n",
    "from sklearn.model_selection import GridSearchCV\n",
    "from sklearn.model_selection import TimeSeriesSplit\n",
    "import sklearn.linear_model\n",
    "import sklearn.tree\n",
    "import sklearn.random_projection\n",
    "from sklearn.neighbors import KNeighborsRegressor\n",
    "\n",
    "#Création des objetfs transverses\n",
    "tscv = TimeSeriesSplit()\n",
    "resultat = {}"
   ]
  },
  {
   "cell_type": "markdown",
   "metadata": {},
   "source": [
    "# Baseline\n",
    "Création d'un modèle très basique pour avoir une référence basse\n",
    "\n",
    "* Utlisation du modèle DummyRegressort qui ressort la moyenne"
   ]
  },
  {
   "cell_type": "code",
   "execution_count": null,
   "metadata": {},
   "outputs": [],
   "source": [
    "model = sklearn.dummy.DummyRegressor()\n",
    "model.fit(X_train_std, y_train)\n",
    "preds = model.predict(X_test_std)\n",
    "print(sklearn.metrics.r2_score(y_test, preds))\n",
    "print(sklearn.metrics.mean_absolute_error(y_test, preds))"
   ]
  },
  {
   "cell_type": "code",
   "execution_count": null,
   "metadata": {},
   "outputs": [],
   "source": [
    "#CROSS VALIDATION 5FOLDS\n",
    "model = sklearn.dummy.DummyRegressor()\n",
    "sklearn.model_selection.cross_val_score(model, X_train_std, y_train, cv=tscv.split(X_train_std, y_train))"
   ]
  },
  {
   "cell_type": "markdown",
   "metadata": {},
   "source": [
    "# Indicateurs Regression\n",
    "\n",
    "* explained_variance = metrics.explained_variance_score\n",
    "* max_error = metrics.max_error\n",
    "* neg_mean_absolute_error = metrics.mean_absolute_error\n",
    "* neg_mean_squared_error = metrics.mean_squared_error\n",
    "* neg_root_mean_squared_error = metrics.mean_squared_error\n",
    "* neg_mean_squared_log_error = metrics.mean_squared_log_error\n",
    "* neg_median_absolute_error = metrics.median_absolute_error\n",
    "* R2 = metrics.r2_score\n",
    "* neg_mean_poisson_deviance = metrics.mean_poisson_deviance\n",
    "* neg_mean_gamma_deviance = metrics.mean_gamma_deviance\n",
    "* neg_mean_absolute_percentage_error = metrics.mean_absolute_percentage_error"
   ]
  },
  {
   "cell_type": "code",
   "execution_count": null,
   "metadata": {
    "execution": {
     "iopub.execute_input": "2021-09-27T12:57:51.425986Z",
     "iopub.status.busy": "2021-09-27T12:57:51.425621Z",
     "iopub.status.idle": "2021-09-27T12:57:51.43184Z",
     "shell.execute_reply": "2021-09-27T12:57:51.430907Z",
     "shell.execute_reply.started": "2021-09-27T12:57:51.425954Z"
    }
   },
   "outputs": [],
   "source": [
    "#Fonction qui consolide les différents modèles dans un tableau avec leurs résultats\n",
    "def consolidationResultat_model(resultat, model, X_test, y_reel , nomModel):\n",
    "    y_pred = model.predict(X_test)\n",
    "    r2 = sklearn.metrics.r2_score(y_reel, y_pred)\n",
    "    mae = sklearn.metrics.mean_absolute_error(y_reel, y_pred)\n",
    "    SqrError = sklearn.metrics.mean_squared_error(y_reel, y_pred)\n",
    "    resultat[nomModel] = {r2,mae,SqrError}\n",
    "    return resultat"
   ]
  },
  {
   "cell_type": "markdown",
   "metadata": {},
   "source": []
  },
  {
   "cell_type": "code",
   "execution_count": null,
   "metadata": {
    "execution": {
     "iopub.execute_input": "2021-09-27T12:57:54.614024Z",
     "iopub.status.busy": "2021-09-27T12:57:54.613642Z",
     "iopub.status.idle": "2021-09-27T12:57:54.699535Z",
     "shell.execute_reply": "2021-09-27T12:57:54.698741Z",
     "shell.execute_reply.started": "2021-09-27T12:57:54.613992Z"
    }
   },
   "outputs": [],
   "source": [
    "#GRID SEARCH pour trouver les HYPERPARAMETRES ==> PAS DANS CET EXEMPLE\n",
    "params = {}\n",
    "model = sklearn.dummy.DummyRegressor()\n",
    "clf = GridSearchCV(model, params, cv=tscv.split(X_train_std, y_train))\n",
    "clf.fit(X_train_std, y_train)\n",
    "consolidationResultat_model(resultat, clf.best_estimator_, X_test_std, y_test,'DummyRegressor')"
   ]
  },
  {
   "cell_type": "code",
   "execution_count": null,
   "metadata": {
    "execution": {
     "iopub.execute_input": "2021-09-27T12:57:57.678438Z",
     "iopub.status.busy": "2021-09-27T12:57:57.677861Z",
     "iopub.status.idle": "2021-09-27T12:57:58.703648Z",
     "shell.execute_reply": "2021-09-27T12:57:58.702559Z",
     "shell.execute_reply.started": "2021-09-27T12:57:57.678387Z"
    }
   },
   "outputs": [],
   "source": [
    "#GRID SEARCH sur régression linéaire ==> PAS DE PARAMETRE DANS CET EXEMPLE\n",
    "params = {}\n",
    "model = sklearn.linear_model.LinearRegression()\n",
    "clf = GridSearchCV(model, params, cv=tscv.split(X_train_std, y_train))\n",
    "clf.fit(X_train_std, y_train)\n",
    "consolidationResultat_model(resultat, clf.best_estimator_, X_test_std, y_test, 'Régression Linéaire')\n",
    "\n",
    "#Vérifier si une obeservation est complètement aberrante"
   ]
  },
  {
   "cell_type": "code",
   "execution_count": null,
   "metadata": {
    "execution": {
     "iopub.execute_input": "2021-09-27T13:13:50.760042Z",
     "iopub.status.busy": "2021-09-27T13:13:50.759603Z",
     "iopub.status.idle": "2021-09-27T13:13:51.045012Z",
     "shell.execute_reply": "2021-09-27T13:13:51.042542Z",
     "shell.execute_reply.started": "2021-09-27T13:13:50.760006Z"
    }
   },
   "outputs": [],
   "source": [
    "model = sklearn.linear_model.LinearRegression()\n",
    "model.fit(X_train_std, y_train)\n",
    "y_pred  = model.predict(X_test_std)\n",
    "\n",
    "print(sklearn.metrics.mean_absolute_error(y_test, y_pred))\n",
    "print(sklearn.metrics.r2_score(y_test, y_pred))"
   ]
  },
  {
   "cell_type": "code",
   "execution_count": null,
   "metadata": {
    "execution": {
     "iopub.execute_input": "2021-09-27T13:28:28.135672Z",
     "iopub.status.busy": "2021-09-27T13:28:28.135078Z",
     "iopub.status.idle": "2021-09-27T13:28:28.758169Z",
     "shell.execute_reply": "2021-09-27T13:28:28.7574Z",
     "shell.execute_reply.started": "2021-09-27T13:28:28.135632Z"
    }
   },
   "outputs": [],
   "source": [
    "fig = plt.figure(1, figsize=(6, 8))\n",
    "plt.barh(full_df.loc[:, full_df.columns != 'ARR_DELAY'].columns.values,model.coef_[0],)"
   ]
  },
  {
   "cell_type": "code",
   "execution_count": null,
   "metadata": {
    "execution": {
     "iopub.execute_input": "2021-09-27T13:32:01.094628Z",
     "iopub.status.busy": "2021-09-27T13:32:01.094118Z",
     "iopub.status.idle": "2021-09-27T13:32:01.727315Z",
     "shell.execute_reply": "2021-09-27T13:32:01.726169Z",
     "shell.execute_reply.started": "2021-09-27T13:32:01.094581Z"
    }
   },
   "outputs": [],
   "source": [
    "plt.barh(full_df.loc[:, full_df.columns != 'ARR_DELAY'].columns.values,model.feature_importances_)"
   ]
  },
  {
   "cell_type": "code",
   "execution_count": null,
   "metadata": {},
   "outputs": [],
   "source": [
    "fig = plt.figure()\n",
    "fig.suptitle('Prediction/Réel')\n",
    "plt.xlabel('Valeur Réelle')\n",
    "plt.ylabel('Prédiction')\n",
    "plt.scatter(y_test, y_pred,color = 'coral', alpha=0.1)"
   ]
  },
  {
   "cell_type": "code",
   "execution_count": null,
   "metadata": {},
   "outputs": [],
   "source": [
    "plt.figure(figsize=(10,10))\n",
    "plt.boxplot(y_train_forReg)\n",
    "plt.ylim(-100,250)\n",
    "plt.show()"
   ]
  },
  {
   "cell_type": "code",
   "execution_count": null,
   "metadata": {
    "execution": {
     "iopub.execute_input": "2021-09-27T12:58:13.902854Z",
     "iopub.status.busy": "2021-09-27T12:58:13.902473Z",
     "iopub.status.idle": "2021-09-27T12:58:14.671146Z",
     "shell.execute_reply": "2021-09-27T12:58:14.670137Z",
     "shell.execute_reply.started": "2021-09-27T12:58:13.902822Z"
    }
   },
   "outputs": [],
   "source": [
    "#GRID SEARCH avec trouver l'Alpha de la régularisation Ridge\n",
    "params = {'alpha':[1, 10]}\n",
    "model = sklearn.linear_model.Ridge()\n",
    "clf = GridSearchCV(model, params, cv=tscv.split(X_train_std, y_train))\n",
    "clf.fit(X_train_std, y_train)\n",
    "consolidationResultat_model(resultat, clf.best_estimator_, X_test_std, y_test, 'Régression Ridge')"
   ]
  },
  {
   "cell_type": "markdown",
   "metadata": {},
   "source": [
    "# Avantages de l’arbre de régression par rapport au modèle de régression linéaire sont les suivants :\n",
    "* Il est plus simple et plus direct dans son approche\n",
    "* La structure liant Y à X1, . . . , Xp n’importe pas ; celle-ci peut être linéaire ou autre\n",
    "* Il n’y a pas d’hypothèse mathématique sous-jacente (pas d’hypothèse de normalité ou autre)\n",
    "* Les dépendances éventuelles entre X1, . . . , Xp ne posent pas de problème"
   ]
  },
  {
   "cell_type": "code",
   "execution_count": null,
   "metadata": {
    "execution": {
     "iopub.execute_input": "2021-09-27T12:58:26.527507Z",
     "iopub.status.busy": "2021-09-27T12:58:26.52713Z",
     "iopub.status.idle": "2021-09-27T12:58:34.080211Z",
     "shell.execute_reply": "2021-09-27T12:58:34.079154Z",
     "shell.execute_reply.started": "2021-09-27T12:58:26.527474Z"
    }
   },
   "outputs": [],
   "source": [
    "#GRID SEARCH sur arbre de décision\n",
    "params = {'max_depth': range(8, 9, 1)}\n",
    "model = sklearn.tree.DecisionTreeRegressor()\n",
    "clf = GridSearchCV(model, params, cv=tscv.split(X_train_std, y_train))\n",
    "clf.fit(X_train_std, y_train)\n",
    "consolidationResultat_model(resultat, clf.best_estimator_, X_test_std, y_test, 'Arbre de décision')\n",
    "\n",
    "#MAX_DEPTH à 8 semble être le meilleur hyperparamètre\n",
    "#Utiliser les variables les plus importantes features importance"
   ]
  },
  {
   "cell_type": "markdown",
   "metadata": {},
   "source": [
    "# Sérialisation du modèle pour le site Web"
   ]
  },
  {
   "cell_type": "code",
   "execution_count": null,
   "metadata": {
    "execution": {
     "iopub.execute_input": "2021-09-27T13:14:00.634979Z",
     "iopub.status.busy": "2021-09-27T13:14:00.634612Z",
     "iopub.status.idle": "2021-09-27T13:14:00.640938Z",
     "shell.execute_reply": "2021-09-27T13:14:00.639762Z",
     "shell.execute_reply.started": "2021-09-27T13:14:00.634941Z"
    }
   },
   "outputs": [],
   "source": [
    "#Serialisation du modèle de regression linéaire\n",
    "pickle.dump(model, open('RegressionLineaire.pickle', 'wb')) #Saving the model\n",
    "pickle.dump(std_scale, open('scaler.pickle', 'wb')) #Saving the scaler"
   ]
  },
  {
   "cell_type": "code",
   "execution_count": null,
   "metadata": {
    "execution": {
     "iopub.execute_input": "2021-09-27T13:11:03.110728Z",
     "iopub.status.busy": "2021-09-27T13:11:03.110234Z",
     "iopub.status.idle": "2021-09-27T13:11:03.117181Z",
     "shell.execute_reply": "2021-09-27T13:11:03.116247Z",
     "shell.execute_reply.started": "2021-09-27T13:11:03.110686Z"
    }
   },
   "outputs": [],
   "source": [
    "#Serialisation du modèle d'arbre de décision\n",
    "pickle.dump(model, open('arbreDecision.pickle', 'wb')) #Saving the model"
   ]
  },
  {
   "cell_type": "code",
   "execution_count": null,
   "metadata": {
    "execution": {
     "iopub.execute_input": "2021-09-27T13:31:47.427631Z",
     "iopub.status.busy": "2021-09-27T13:31:47.42712Z",
     "iopub.status.idle": "2021-09-27T13:31:50.768308Z",
     "shell.execute_reply": "2021-09-27T13:31:50.76738Z",
     "shell.execute_reply.started": "2021-09-27T13:31:47.427581Z"
    }
   },
   "outputs": [],
   "source": [
    "model = sklearn.tree.DecisionTreeRegressor(max_depth = 8)\n",
    "model.fit(X_train_std, y_train)\n",
    "\n",
    "y_pred  = model.predict(X_test_std)\n",
    "\n",
    "fig = plt.figure()\n",
    "fig.suptitle('Prediction/Réel')\n",
    "plt.xlabel('Valeur Réelle')\n",
    "plt.ylabel('Prédiction')\n",
    "plt.scatter(y_test, y_pred,color = 'coral', alpha=0.1)"
   ]
  },
  {
   "cell_type": "code",
   "execution_count": null,
   "metadata": {},
   "outputs": [],
   "source": [
    "ValAbsoErreur = [abs(y_test_elt - y_pred_elt) for y_test_elt, y_pred_elt in zip(y_test , y_pred)]\n",
    "fig = plt.figure()\n",
    "fig.suptitle('Erreur/Valeur attendue')\n",
    "plt.xlabel('Valeur Attendue')\n",
    "plt.ylabel('Valeur absolue de l''Erreur')\n",
    "plt.scatter(y_test, ValAbsoErreur,color = 'coral', alpha=0.1)"
   ]
  },
  {
   "cell_type": "code",
   "execution_count": null,
   "metadata": {},
   "outputs": [],
   "source": [
    "jeuDonnee = np.c_[y_test, ValAbsoErreur]\n",
    "jeuDonnee = np.c_[jeuDonnee, ValAbsoErreur]\n",
    "sns.scatterplot(x = jeuDonnee[:,0], y = jeuDonnee[:,1], data = jeuDonnee)\n",
    "# print(type(y_test))\n",
    "# print(type(ValAbsoErreur))\n"
   ]
  },
  {
   "cell_type": "code",
   "execution_count": null,
   "metadata": {
    "execution": {
     "iopub.execute_input": "2021-09-27T12:58:44.590868Z",
     "iopub.status.busy": "2021-09-27T12:58:44.590504Z",
     "iopub.status.idle": "2021-09-27T13:06:02.394798Z",
     "shell.execute_reply": "2021-09-27T13:06:02.393832Z",
     "shell.execute_reply.started": "2021-09-27T12:58:44.590835Z"
    }
   },
   "outputs": [],
   "source": [
    "#GRID SEARCH sur Random Forest\n",
    "from sklearn.ensemble import RandomForestRegressor\n",
    "params = {'max_depth': range(8, 14, 2)}\n",
    "model = sklearn.ensemble.RandomForestRegressor(n_estimators = 30)\n",
    "clf = GridSearchCV(model, params, cv=tscv.split(X_train_std, y_train))\n",
    "clf.fit(X_train_std, y_train)\n",
    "consolidationResultat_model(resultat, clf.best_estimator_, X_test_std, y_test, 'RandomForest')\n",
    "\n",
    "#max_depth=10 pour la valeur optimale. Refaire avec n_estimators plus grand"
   ]
  },
  {
   "cell_type": "code",
   "execution_count": null,
   "metadata": {},
   "outputs": [],
   "source": [
    "#GRID SEARCH sur LGBM\n",
    "import lightgbm as lgb\n",
    "params = {\n",
    "    'max_depth': range(13, 16,2)\n",
    "}\n",
    "model = lgb.LGBMRegressor()\n",
    "clf = GridSearchCV(model, params,  cv=tscv.split(X_train_std, y_train))\n",
    "clf.fit(X_train_std, y_train)\n",
    "consolidationResultat_model(resultat, clf.best_estimator_, X_test_std, y_test,'LGBM')\n",
    "#max_depth=15 pour la valeur optimale."
   ]
  },
  {
   "cell_type": "code",
   "execution_count": null,
   "metadata": {},
   "outputs": [],
   "source": [
    "#GRID SEARCH KNN Regressor\n",
    "params = {\n",
    "    'n_neighbors': range(5, 12,1)\n",
    "}\n",
    "model = sklearn.neighbors.KNeighborsRegressor()\n",
    "clf = GridSearchCV(model, params,  cv=tscv.split(X_train_std, y_train))\n",
    "clf.fit(X_train_std, y_train)\n",
    "consolidationResultat_model(resultat, clf.best_estimator_, X_test_std, y_test,'KNN Regressor')\n",
    "\n",
    "#n_neighbors=10 valeur optimale"
   ]
  },
  {
   "cell_type": "code",
   "execution_count": null,
   "metadata": {},
   "outputs": [],
   "source": [
    "model = sklearn.neighbors.KNeighborsRegressor(n_neighbors = 10)\n",
    "model.fit(X_train_std, y_train)\n",
    "y_pred = model.predict(X_test_std)\n",
    "r2 = sklearn.metrics.r2_score(y_test, y_pred)"
   ]
  }
 ],
 "metadata": {
  "kernelspec": {
   "display_name": "Python 3 (ipykernel)",
   "language": "python",
   "name": "python3"
  },
  "language_info": {
   "codemirror_mode": {
    "name": "ipython",
    "version": 3
   },
   "file_extension": ".py",
   "mimetype": "text/x-python",
   "name": "python",
   "nbconvert_exporter": "python",
   "pygments_lexer": "ipython3",
   "version": "3.9.7"
  }
 },
 "nbformat": 4,
 "nbformat_minor": 4
}
